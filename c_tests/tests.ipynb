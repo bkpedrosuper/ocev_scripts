{
 "cells": [
  {
   "cell_type": "code",
   "execution_count": 22,
   "metadata": {},
   "outputs": [],
   "source": [
    "# Imports\n",
    "import pandas as pd"
   ]
  },
  {
   "cell_type": "code",
   "execution_count": 23,
   "metadata": {},
   "outputs": [],
   "source": [
    "# Function to get alpha and beta\n",
    "def get_a_b(C, column: pd.Series):\n",
    "    fmin = column.min()\n",
    "    favg = column.mean()\n",
    "    fmax = column.max()\n",
    "\n",
    "    if fmin > (C * favg - fmax) / (C-1):\n",
    "        a = (favg*(C-1)) / (fmax - favg)\n",
    "        b = (favg * (fmax - C*favg)) / (fmax - favg)\n",
    "        return a, b\n",
    "    else:\n",
    "        a = (favg) / (favg - fmin)\n",
    "        b = (-fmin * favg) / (favg - fmin)\n",
    "        return a, b\n",
    "\n",
    "def get_escalonated(C, column: pd.Series):\n",
    "    a, b = get_a_b(C, column)\n",
    "    return [a*value + b for value in column]\n"
   ]
  },
  {
   "cell_type": "code",
   "execution_count": 24,
   "metadata": {},
   "outputs": [],
   "source": [
    "def get_relative(column: pd.Series):\n",
    "    total = column.sum()\n",
    "    return [round(value / total, 2) for value in column]"
   ]
  },
  {
   "cell_type": "code",
   "execution_count": 25,
   "metadata": {},
   "outputs": [],
   "source": [
    "table_1 = pd.DataFrame(data={'raw_fitness': [10, 9.5, 9, 8]})\n",
    "table_2 = pd.DataFrame(data={'raw_fitness': [8, 5, 3, 1]})"
   ]
  },
  {
   "cell_type": "code",
   "execution_count": 26,
   "metadata": {},
   "outputs": [],
   "source": [
    "def get_columns_from_raw_table(table: pd.DataFrame):\n",
    "    table['fitness relative'] = get_relative(column=table['raw_fitness'])\n",
    "\n",
    "\n",
    "    table['fit (c=2)'] = get_escalonated(C=2, column=table['raw_fitness'])\n",
    "    table['fitness (c=2) relative'] = get_relative(column=table['fit (c=2)'])\n",
    "\n",
    "\n",
    "    table['fit (c=1.2)'] = get_escalonated(C=1.2, column=table['raw_fitness'])\n",
    "    table['fitness (c=1.2) relative'] = get_relative(column=table['fit (c=1.2)'])\n",
    "\n",
    "    return table"
   ]
  },
  {
   "cell_type": "code",
   "execution_count": 27,
   "metadata": {},
   "outputs": [
    {
     "data": {
      "text/html": [
       "<div>\n",
       "<style scoped>\n",
       "    .dataframe tbody tr th:only-of-type {\n",
       "        vertical-align: middle;\n",
       "    }\n",
       "\n",
       "    .dataframe tbody tr th {\n",
       "        vertical-align: top;\n",
       "    }\n",
       "\n",
       "    .dataframe thead th {\n",
       "        text-align: right;\n",
       "    }\n",
       "</style>\n",
       "<table border=\"1\" class=\"dataframe\">\n",
       "  <thead>\n",
       "    <tr style=\"text-align: right;\">\n",
       "      <th></th>\n",
       "      <th>raw_fitness</th>\n",
       "      <th>fitness relative</th>\n",
       "      <th>fit (c=2)</th>\n",
       "      <th>fitness (c=2) relative</th>\n",
       "      <th>fit (c=1.2)</th>\n",
       "      <th>fitness (c=1.2) relative</th>\n",
       "    </tr>\n",
       "  </thead>\n",
       "  <tbody>\n",
       "    <tr>\n",
       "      <th>0</th>\n",
       "      <td>10.0</td>\n",
       "      <td>0.27</td>\n",
       "      <td>16.222222</td>\n",
       "      <td>0.44</td>\n",
       "      <td>10.950000</td>\n",
       "      <td>0.30</td>\n",
       "    </tr>\n",
       "    <tr>\n",
       "      <th>1</th>\n",
       "      <td>9.5</td>\n",
       "      <td>0.26</td>\n",
       "      <td>12.166667</td>\n",
       "      <td>0.33</td>\n",
       "      <td>9.907143</td>\n",
       "      <td>0.27</td>\n",
       "    </tr>\n",
       "    <tr>\n",
       "      <th>2</th>\n",
       "      <td>9.0</td>\n",
       "      <td>0.25</td>\n",
       "      <td>8.111111</td>\n",
       "      <td>0.22</td>\n",
       "      <td>8.864286</td>\n",
       "      <td>0.24</td>\n",
       "    </tr>\n",
       "    <tr>\n",
       "      <th>3</th>\n",
       "      <td>8.0</td>\n",
       "      <td>0.22</td>\n",
       "      <td>0.000000</td>\n",
       "      <td>0.00</td>\n",
       "      <td>6.778571</td>\n",
       "      <td>0.19</td>\n",
       "    </tr>\n",
       "  </tbody>\n",
       "</table>\n",
       "</div>"
      ],
      "text/plain": [
       "   raw_fitness  fitness relative  fit (c=2)  fitness (c=2) relative  \\\n",
       "0         10.0              0.27  16.222222                    0.44   \n",
       "1          9.5              0.26  12.166667                    0.33   \n",
       "2          9.0              0.25   8.111111                    0.22   \n",
       "3          8.0              0.22   0.000000                    0.00   \n",
       "\n",
       "   fit (c=1.2)  fitness (c=1.2) relative  \n",
       "0    10.950000                      0.30  \n",
       "1     9.907143                      0.27  \n",
       "2     8.864286                      0.24  \n",
       "3     6.778571                      0.19  "
      ]
     },
     "execution_count": 27,
     "metadata": {},
     "output_type": "execute_result"
    }
   ],
   "source": [
    "get_columns_from_raw_table(table_1)"
   ]
  },
  {
   "cell_type": "code",
   "execution_count": 28,
   "metadata": {},
   "outputs": [
    {
     "data": {
      "text/html": [
       "<div>\n",
       "<style scoped>\n",
       "    .dataframe tbody tr th:only-of-type {\n",
       "        vertical-align: middle;\n",
       "    }\n",
       "\n",
       "    .dataframe tbody tr th {\n",
       "        vertical-align: top;\n",
       "    }\n",
       "\n",
       "    .dataframe thead th {\n",
       "        text-align: right;\n",
       "    }\n",
       "</style>\n",
       "<table border=\"1\" class=\"dataframe\">\n",
       "  <thead>\n",
       "    <tr style=\"text-align: right;\">\n",
       "      <th></th>\n",
       "      <th>raw_fitness</th>\n",
       "      <th>fitness relative</th>\n",
       "      <th>fit (c=2)</th>\n",
       "      <th>fitness (c=2) relative</th>\n",
       "      <th>fit (c=1.2)</th>\n",
       "      <th>fitness (c=1.2) relative</th>\n",
       "    </tr>\n",
       "  </thead>\n",
       "  <tbody>\n",
       "    <tr>\n",
       "      <th>0</th>\n",
       "      <td>8</td>\n",
       "      <td>0.47</td>\n",
       "      <td>8.500000</td>\n",
       "      <td>0.50</td>\n",
       "      <td>5.100000</td>\n",
       "      <td>0.30</td>\n",
       "    </tr>\n",
       "    <tr>\n",
       "      <th>1</th>\n",
       "      <td>5</td>\n",
       "      <td>0.29</td>\n",
       "      <td>5.100000</td>\n",
       "      <td>0.30</td>\n",
       "      <td>4.420000</td>\n",
       "      <td>0.26</td>\n",
       "    </tr>\n",
       "    <tr>\n",
       "      <th>2</th>\n",
       "      <td>3</td>\n",
       "      <td>0.18</td>\n",
       "      <td>2.833333</td>\n",
       "      <td>0.17</td>\n",
       "      <td>3.966667</td>\n",
       "      <td>0.23</td>\n",
       "    </tr>\n",
       "    <tr>\n",
       "      <th>3</th>\n",
       "      <td>1</td>\n",
       "      <td>0.06</td>\n",
       "      <td>0.566667</td>\n",
       "      <td>0.03</td>\n",
       "      <td>3.513333</td>\n",
       "      <td>0.21</td>\n",
       "    </tr>\n",
       "  </tbody>\n",
       "</table>\n",
       "</div>"
      ],
      "text/plain": [
       "   raw_fitness  fitness relative  fit (c=2)  fitness (c=2) relative  \\\n",
       "0            8              0.47   8.500000                    0.50   \n",
       "1            5              0.29   5.100000                    0.30   \n",
       "2            3              0.18   2.833333                    0.17   \n",
       "3            1              0.06   0.566667                    0.03   \n",
       "\n",
       "   fit (c=1.2)  fitness (c=1.2) relative  \n",
       "0     5.100000                      0.30  \n",
       "1     4.420000                      0.26  \n",
       "2     3.966667                      0.23  \n",
       "3     3.513333                      0.21  "
      ]
     },
     "execution_count": 28,
     "metadata": {},
     "output_type": "execute_result"
    }
   ],
   "source": [
    "get_columns_from_raw_table(table_2)"
   ]
  },
  {
   "cell_type": "markdown",
   "metadata": {},
   "source": [
    "## Estratégia\n",
    "\n",
    "O Valor de C deve ir aumentando conforme o algoritmo genético itera sobre as gerações.\n",
    "Já que o valor de C aumenta a diversidade quando mais perto de 2 e aumenta a pressão seletiva quando mais perto de 1.2\n",
    "\n",
    "Dessa forma, o algoritmo iniciará forçando uma normalização da alta diversidade comum do início e terminará forçando mais diversidade e com baixa pressão seletiva."
   ]
  }
 ],
 "metadata": {
  "kernelspec": {
   "display_name": ".venv",
   "language": "python",
   "name": "python3"
  },
  "language_info": {
   "codemirror_mode": {
    "name": "ipython",
    "version": 3
   },
   "file_extension": ".py",
   "mimetype": "text/x-python",
   "name": "python",
   "nbconvert_exporter": "python",
   "pygments_lexer": "ipython3",
   "version": "3.11.5"
  }
 },
 "nbformat": 4,
 "nbformat_minor": 2
}
